{
 "cells": [
  {
   "cell_type": "markdown",
   "id": "forced-strain",
   "metadata": {},
   "source": [
    "### Crop yeild data preprocessing"
   ]
  },
  {
   "cell_type": "markdown",
   "id": "young-evolution",
   "metadata": {},
   "source": [
    "#### Importing the libraries "
   ]
  },
  {
   "cell_type": "code",
   "execution_count": 1,
   "id": "raising-greene",
   "metadata": {},
   "outputs": [],
   "source": [
    "import pandas as pd\n",
    "import matplotlib.pyplot as plt\n",
    "import numpy as np\n",
    "import seaborn as sns"
   ]
  },
  {
   "cell_type": "markdown",
   "id": "welsh-surrey",
   "metadata": {},
   "source": [
    "#### Importing the dataset "
   ]
  },
  {
   "cell_type": "code",
   "execution_count": 2,
   "id": "liberal-review",
   "metadata": {},
   "outputs": [],
   "source": [
    "crop_df = pd.read_csv('apy.csv')"
   ]
  },
  {
   "cell_type": "markdown",
   "id": "adequate-round",
   "metadata": {},
   "source": [
    "#### Understanding the data "
   ]
  },
  {
   "cell_type": "code",
   "execution_count": 3,
   "id": "proved-trial",
   "metadata": {},
   "outputs": [
    {
     "data": {
      "text/plain": [
       "(246091, 7)"
      ]
     },
     "execution_count": 3,
     "metadata": {},
     "output_type": "execute_result"
    }
   ],
   "source": [
    "crop_df.shape"
   ]
  },
  {
   "cell_type": "code",
   "execution_count": 4,
   "id": "eastern-cinema",
   "metadata": {},
   "outputs": [
    {
     "data": {
      "text/html": [
       "<div>\n",
       "<style scoped>\n",
       "    .dataframe tbody tr th:only-of-type {\n",
       "        vertical-align: middle;\n",
       "    }\n",
       "\n",
       "    .dataframe tbody tr th {\n",
       "        vertical-align: top;\n",
       "    }\n",
       "\n",
       "    .dataframe thead th {\n",
       "        text-align: right;\n",
       "    }\n",
       "</style>\n",
       "<table border=\"1\" class=\"dataframe\">\n",
       "  <thead>\n",
       "    <tr style=\"text-align: right;\">\n",
       "      <th></th>\n",
       "      <th>Crop_Year</th>\n",
       "      <th>Area</th>\n",
       "      <th>Production</th>\n",
       "    </tr>\n",
       "  </thead>\n",
       "  <tbody>\n",
       "    <tr>\n",
       "      <th>count</th>\n",
       "      <td>246091.000000</td>\n",
       "      <td>2.460910e+05</td>\n",
       "      <td>2.423610e+05</td>\n",
       "    </tr>\n",
       "    <tr>\n",
       "      <th>mean</th>\n",
       "      <td>2005.643018</td>\n",
       "      <td>1.200282e+04</td>\n",
       "      <td>5.825034e+05</td>\n",
       "    </tr>\n",
       "    <tr>\n",
       "      <th>std</th>\n",
       "      <td>4.952164</td>\n",
       "      <td>5.052340e+04</td>\n",
       "      <td>1.706581e+07</td>\n",
       "    </tr>\n",
       "    <tr>\n",
       "      <th>min</th>\n",
       "      <td>1997.000000</td>\n",
       "      <td>4.000000e-02</td>\n",
       "      <td>0.000000e+00</td>\n",
       "    </tr>\n",
       "    <tr>\n",
       "      <th>25%</th>\n",
       "      <td>2002.000000</td>\n",
       "      <td>8.000000e+01</td>\n",
       "      <td>8.800000e+01</td>\n",
       "    </tr>\n",
       "    <tr>\n",
       "      <th>50%</th>\n",
       "      <td>2006.000000</td>\n",
       "      <td>5.820000e+02</td>\n",
       "      <td>7.290000e+02</td>\n",
       "    </tr>\n",
       "    <tr>\n",
       "      <th>75%</th>\n",
       "      <td>2010.000000</td>\n",
       "      <td>4.392000e+03</td>\n",
       "      <td>7.023000e+03</td>\n",
       "    </tr>\n",
       "    <tr>\n",
       "      <th>max</th>\n",
       "      <td>2015.000000</td>\n",
       "      <td>8.580100e+06</td>\n",
       "      <td>1.250800e+09</td>\n",
       "    </tr>\n",
       "  </tbody>\n",
       "</table>\n",
       "</div>"
      ],
      "text/plain": [
       "           Crop_Year          Area    Production\n",
       "count  246091.000000  2.460910e+05  2.423610e+05\n",
       "mean     2005.643018  1.200282e+04  5.825034e+05\n",
       "std         4.952164  5.052340e+04  1.706581e+07\n",
       "min      1997.000000  4.000000e-02  0.000000e+00\n",
       "25%      2002.000000  8.000000e+01  8.800000e+01\n",
       "50%      2006.000000  5.820000e+02  7.290000e+02\n",
       "75%      2010.000000  4.392000e+03  7.023000e+03\n",
       "max      2015.000000  8.580100e+06  1.250800e+09"
      ]
     },
     "execution_count": 4,
     "metadata": {},
     "output_type": "execute_result"
    }
   ],
   "source": [
    "crop_df.describe()"
   ]
  },
  {
   "cell_type": "code",
   "execution_count": 5,
   "id": "bibliographic-trauma",
   "metadata": {},
   "outputs": [
    {
     "data": {
      "text/html": [
       "<div>\n",
       "<style scoped>\n",
       "    .dataframe tbody tr th:only-of-type {\n",
       "        vertical-align: middle;\n",
       "    }\n",
       "\n",
       "    .dataframe tbody tr th {\n",
       "        vertical-align: top;\n",
       "    }\n",
       "\n",
       "    .dataframe thead th {\n",
       "        text-align: right;\n",
       "    }\n",
       "</style>\n",
       "<table border=\"1\" class=\"dataframe\">\n",
       "  <thead>\n",
       "    <tr style=\"text-align: right;\">\n",
       "      <th></th>\n",
       "      <th>State_Name</th>\n",
       "      <th>District_Name</th>\n",
       "      <th>Crop_Year</th>\n",
       "      <th>Season</th>\n",
       "      <th>Crop</th>\n",
       "      <th>Area</th>\n",
       "      <th>Production</th>\n",
       "    </tr>\n",
       "  </thead>\n",
       "  <tbody>\n",
       "    <tr>\n",
       "      <th>0</th>\n",
       "      <td>Andaman and Nicobar Islands</td>\n",
       "      <td>NICOBARS</td>\n",
       "      <td>2000</td>\n",
       "      <td>Kharif</td>\n",
       "      <td>Arecanut</td>\n",
       "      <td>1254.0</td>\n",
       "      <td>2000.0</td>\n",
       "    </tr>\n",
       "    <tr>\n",
       "      <th>1</th>\n",
       "      <td>Andaman and Nicobar Islands</td>\n",
       "      <td>NICOBARS</td>\n",
       "      <td>2000</td>\n",
       "      <td>Kharif</td>\n",
       "      <td>Other Kharif pulses</td>\n",
       "      <td>2.0</td>\n",
       "      <td>1.0</td>\n",
       "    </tr>\n",
       "    <tr>\n",
       "      <th>2</th>\n",
       "      <td>Andaman and Nicobar Islands</td>\n",
       "      <td>NICOBARS</td>\n",
       "      <td>2000</td>\n",
       "      <td>Kharif</td>\n",
       "      <td>Rice</td>\n",
       "      <td>102.0</td>\n",
       "      <td>321.0</td>\n",
       "    </tr>\n",
       "    <tr>\n",
       "      <th>3</th>\n",
       "      <td>Andaman and Nicobar Islands</td>\n",
       "      <td>NICOBARS</td>\n",
       "      <td>2000</td>\n",
       "      <td>Whole Year</td>\n",
       "      <td>Banana</td>\n",
       "      <td>176.0</td>\n",
       "      <td>641.0</td>\n",
       "    </tr>\n",
       "    <tr>\n",
       "      <th>4</th>\n",
       "      <td>Andaman and Nicobar Islands</td>\n",
       "      <td>NICOBARS</td>\n",
       "      <td>2000</td>\n",
       "      <td>Whole Year</td>\n",
       "      <td>Cashewnut</td>\n",
       "      <td>720.0</td>\n",
       "      <td>165.0</td>\n",
       "    </tr>\n",
       "  </tbody>\n",
       "</table>\n",
       "</div>"
      ],
      "text/plain": [
       "                    State_Name District_Name  Crop_Year       Season  \\\n",
       "0  Andaman and Nicobar Islands      NICOBARS       2000  Kharif        \n",
       "1  Andaman and Nicobar Islands      NICOBARS       2000  Kharif        \n",
       "2  Andaman and Nicobar Islands      NICOBARS       2000  Kharif        \n",
       "3  Andaman and Nicobar Islands      NICOBARS       2000  Whole Year    \n",
       "4  Andaman and Nicobar Islands      NICOBARS       2000  Whole Year    \n",
       "\n",
       "                  Crop    Area  Production  \n",
       "0             Arecanut  1254.0      2000.0  \n",
       "1  Other Kharif pulses     2.0         1.0  \n",
       "2                 Rice   102.0       321.0  \n",
       "3               Banana   176.0       641.0  \n",
       "4            Cashewnut   720.0       165.0  "
      ]
     },
     "execution_count": 5,
     "metadata": {},
     "output_type": "execute_result"
    }
   ],
   "source": [
    "crop_df.head()"
   ]
  },
  {
   "cell_type": "code",
   "execution_count": 6,
   "id": "incoming-exhibition",
   "metadata": {},
   "outputs": [],
   "source": [
    "#Storing crop names to array\n",
    "crop_names = crop_df['Crop'].unique()"
   ]
  },
  {
   "cell_type": "code",
   "execution_count": 7,
   "id": "aggregate-alert",
   "metadata": {},
   "outputs": [
    {
     "data": {
      "text/plain": [
       "array(['Arecanut', 'Other Kharif pulses', 'Rice', 'Banana', 'Cashewnut',\n",
       "       'Coconut ', 'Dry ginger', 'Sugarcane', 'Sweet potato', 'Tapioca',\n",
       "       'Black pepper', 'Dry chillies', 'other oilseeds', 'Turmeric',\n",
       "       'Maize', 'Moong(Green Gram)', 'Urad', 'Arhar/Tur', 'Groundnut',\n",
       "       'Sunflower', 'Bajra', 'Castor seed', 'Cotton(lint)', 'Horse-gram',\n",
       "       'Jowar', 'Korra', 'Ragi', 'Tobacco', 'Gram', 'Wheat', 'Masoor',\n",
       "       'Sesamum', 'Linseed', 'Safflower', 'Onion', 'other misc. pulses',\n",
       "       'Samai', 'Small millets', 'Coriander', 'Potato',\n",
       "       'Other  Rabi pulses', 'Soyabean', 'Beans & Mutter(Vegetable)',\n",
       "       'Bhindi', 'Brinjal', 'Citrus Fruit', 'Cucumber', 'Grapes', 'Mango',\n",
       "       'Orange', 'other fibres', 'Other Fresh Fruits', 'Other Vegetables',\n",
       "       'Papaya', 'Pome Fruit', 'Tomato', 'Rapeseed &Mustard', 'Mesta',\n",
       "       'Cowpea(Lobia)', 'Lemon', 'Pome Granet', 'Sapota', 'Cabbage',\n",
       "       'Peas  (vegetable)', 'Niger seed', 'Bottle Gourd', 'Sannhamp',\n",
       "       'Varagu', 'Garlic', 'Ginger', 'Oilseeds total', 'Pulses total',\n",
       "       'Jute', 'Peas & beans (Pulses)', 'Blackgram', 'Paddy', 'Pineapple',\n",
       "       'Barley', 'Khesari', 'Guar seed', 'Moth',\n",
       "       'Other Cereals & Millets', 'Cond-spcs other', 'Turnip', 'Carrot',\n",
       "       'Redish', 'Arcanut (Processed)', 'Atcanut (Raw)',\n",
       "       'Cashewnut Processed', 'Cashewnut Raw', 'Cardamom', 'Rubber',\n",
       "       'Bitter Gourd', 'Drum Stick', 'Jack Fruit', 'Snak Guard',\n",
       "       'Pump Kin', 'Tea', 'Coffee', 'Cauliflower', 'Other Citrus Fruit',\n",
       "       'Water Melon', 'Total foodgrain', 'Kapas', 'Colocosia', 'Lentil',\n",
       "       'Bean', 'Jobster', 'Perilla', 'Rajmash Kholar',\n",
       "       'Ricebean (nagadal)', 'Ash Gourd', 'Beet Root', 'Lab-Lab',\n",
       "       'Ribed Guard', 'Yam', 'Apple', 'Peach', 'Pear', 'Plums', 'Litchi',\n",
       "       'Ber', 'Other Dry Fruit', 'Jute & mesta'], dtype=object)"
      ]
     },
     "execution_count": 7,
     "metadata": {},
     "output_type": "execute_result"
    }
   ],
   "source": [
    "crop_names"
   ]
  },
  {
   "cell_type": "code",
   "execution_count": 8,
   "id": "convinced-confusion",
   "metadata": {},
   "outputs": [
    {
     "data": {
      "text/plain": [
       "array(['Kharif     ', 'Whole Year ', 'Autumn     ', 'Rabi       ',\n",
       "       'Summer     ', 'Winter     '], dtype=object)"
      ]
     },
     "execution_count": 8,
     "metadata": {},
     "output_type": "execute_result"
    }
   ],
   "source": [
    "crop_df['Season'].unique()"
   ]
  },
  {
   "cell_type": "markdown",
   "id": "rolled-expression",
   "metadata": {},
   "source": [
    "#### Renaming the columns for consistancy in the dataset "
   ]
  },
  {
   "cell_type": "code",
   "execution_count": 9,
   "id": "provincial-spyware",
   "metadata": {},
   "outputs": [],
   "source": [
    "#renaming the columns\n",
    "crop_df['Season'] = crop_df['Season'].replace(['Winter     '],'Rabi')\n",
    "crop_df['Season'] = crop_df['Season'].replace(['Autumn     '],'Rabi')\n",
    "crop_df['Season'] = crop_df['Season'].replace(['Rabi       '],'Rabi')\n",
    "crop_df['Season'] = crop_df['Season'].replace(['Kharif     '],'Kharif')\n",
    "crop_df['Season'] = crop_df['Season'].replace(['Whole Year '],'whole_year')\n",
    "crop_df['Season'] = crop_df['Season'].replace(['Summer     '],'Summer')"
   ]
  },
  {
   "cell_type": "code",
   "execution_count": 10,
   "id": "juvenile-terrorism",
   "metadata": {},
   "outputs": [
    {
     "data": {
      "text/plain": [
       "array(['Kharif', 'whole_year', 'Rabi', 'Summer'], dtype=object)"
      ]
     },
     "execution_count": 10,
     "metadata": {},
     "output_type": "execute_result"
    }
   ],
   "source": [
    "crop_df['Season'].unique()"
   ]
  },
  {
   "cell_type": "code",
   "execution_count": 11,
   "id": "atomic-fusion",
   "metadata": {},
   "outputs": [
    {
     "data": {
      "text/plain": [
       "State_Name        object\n",
       "District_Name     object\n",
       "Crop_Year          int64\n",
       "Season            object\n",
       "Crop              object\n",
       "Area             float64\n",
       "Production       float64\n",
       "dtype: object"
      ]
     },
     "execution_count": 11,
     "metadata": {},
     "output_type": "execute_result"
    }
   ],
   "source": [
    "crop_df.dtypes"
   ]
  },
  {
   "cell_type": "code",
   "execution_count": 12,
   "id": "decimal-scottish",
   "metadata": {},
   "outputs": [
    {
     "name": "stdout",
     "output_type": "stream",
     "text": [
      "0         0\n",
      "1         0\n",
      "2         0\n",
      "3         3\n",
      "4         3\n",
      "         ..\n",
      "246086    2\n",
      "246087    2\n",
      "246088    3\n",
      "246089    1\n",
      "246090    1\n",
      "Name: Season_ID, Length: 246091, dtype: int32\n"
     ]
    }
   ],
   "source": [
    "#Converting Season name to season id\n",
    "from sklearn.preprocessing import LabelEncoder\n",
    "label_encoder = LabelEncoder()\n",
    "seasonsI = crop_df['Season']\n",
    "crop_df['Season_ID'] = label_encoder.fit_transform(seasonsI)\n",
    "print(crop_df['Season_ID'])"
   ]
  },
  {
   "cell_type": "markdown",
   "id": "ahead-catalyst",
   "metadata": {},
   "source": [
    "#### Converting the casing of strings to match the other datasets while merging "
   ]
  },
  {
   "cell_type": "code",
   "execution_count": 13,
   "id": "hawaiian-malpractice",
   "metadata": {},
   "outputs": [],
   "source": [
    "crop_df[\"State_Name\"] = crop_df[\"State_Name\"].str.lower()\n",
    "crop_df[\"District_Name\"] = crop_df[\"District_Name\"].str.lower()"
   ]
  },
  {
   "cell_type": "code",
   "execution_count": 14,
   "id": "cordless-parallel",
   "metadata": {},
   "outputs": [
    {
     "data": {
      "text/html": [
       "<div>\n",
       "<style scoped>\n",
       "    .dataframe tbody tr th:only-of-type {\n",
       "        vertical-align: middle;\n",
       "    }\n",
       "\n",
       "    .dataframe tbody tr th {\n",
       "        vertical-align: top;\n",
       "    }\n",
       "\n",
       "    .dataframe thead th {\n",
       "        text-align: right;\n",
       "    }\n",
       "</style>\n",
       "<table border=\"1\" class=\"dataframe\">\n",
       "  <thead>\n",
       "    <tr style=\"text-align: right;\">\n",
       "      <th></th>\n",
       "      <th>State_Name</th>\n",
       "      <th>District_Name</th>\n",
       "      <th>Crop_Year</th>\n",
       "      <th>Season</th>\n",
       "      <th>Crop</th>\n",
       "      <th>Area</th>\n",
       "      <th>Production</th>\n",
       "      <th>Season_ID</th>\n",
       "    </tr>\n",
       "  </thead>\n",
       "  <tbody>\n",
       "    <tr>\n",
       "      <th>0</th>\n",
       "      <td>andaman and nicobar islands</td>\n",
       "      <td>nicobars</td>\n",
       "      <td>2000</td>\n",
       "      <td>Kharif</td>\n",
       "      <td>Arecanut</td>\n",
       "      <td>1254.0</td>\n",
       "      <td>2000.0</td>\n",
       "      <td>0</td>\n",
       "    </tr>\n",
       "    <tr>\n",
       "      <th>1</th>\n",
       "      <td>andaman and nicobar islands</td>\n",
       "      <td>nicobars</td>\n",
       "      <td>2000</td>\n",
       "      <td>Kharif</td>\n",
       "      <td>Other Kharif pulses</td>\n",
       "      <td>2.0</td>\n",
       "      <td>1.0</td>\n",
       "      <td>0</td>\n",
       "    </tr>\n",
       "    <tr>\n",
       "      <th>2</th>\n",
       "      <td>andaman and nicobar islands</td>\n",
       "      <td>nicobars</td>\n",
       "      <td>2000</td>\n",
       "      <td>Kharif</td>\n",
       "      <td>Rice</td>\n",
       "      <td>102.0</td>\n",
       "      <td>321.0</td>\n",
       "      <td>0</td>\n",
       "    </tr>\n",
       "    <tr>\n",
       "      <th>3</th>\n",
       "      <td>andaman and nicobar islands</td>\n",
       "      <td>nicobars</td>\n",
       "      <td>2000</td>\n",
       "      <td>whole_year</td>\n",
       "      <td>Banana</td>\n",
       "      <td>176.0</td>\n",
       "      <td>641.0</td>\n",
       "      <td>3</td>\n",
       "    </tr>\n",
       "    <tr>\n",
       "      <th>4</th>\n",
       "      <td>andaman and nicobar islands</td>\n",
       "      <td>nicobars</td>\n",
       "      <td>2000</td>\n",
       "      <td>whole_year</td>\n",
       "      <td>Cashewnut</td>\n",
       "      <td>720.0</td>\n",
       "      <td>165.0</td>\n",
       "      <td>3</td>\n",
       "    </tr>\n",
       "  </tbody>\n",
       "</table>\n",
       "</div>"
      ],
      "text/plain": [
       "                    State_Name District_Name  Crop_Year      Season  \\\n",
       "0  andaman and nicobar islands      nicobars       2000      Kharif   \n",
       "1  andaman and nicobar islands      nicobars       2000      Kharif   \n",
       "2  andaman and nicobar islands      nicobars       2000      Kharif   \n",
       "3  andaman and nicobar islands      nicobars       2000  whole_year   \n",
       "4  andaman and nicobar islands      nicobars       2000  whole_year   \n",
       "\n",
       "                  Crop    Area  Production  Season_ID  \n",
       "0             Arecanut  1254.0      2000.0          0  \n",
       "1  Other Kharif pulses     2.0         1.0          0  \n",
       "2                 Rice   102.0       321.0          0  \n",
       "3               Banana   176.0       641.0          3  \n",
       "4            Cashewnut   720.0       165.0          3  "
      ]
     },
     "execution_count": 14,
     "metadata": {},
     "output_type": "execute_result"
    }
   ],
   "source": [
    "crop_df.head()"
   ]
  },
  {
   "cell_type": "markdown",
   "id": "finnish-integrity",
   "metadata": {},
   "source": [
    "#### Removing Null values "
   ]
  },
  {
   "cell_type": "code",
   "execution_count": 15,
   "id": "adequate-postcard",
   "metadata": {},
   "outputs": [
    {
     "data": {
      "text/plain": [
       "State_Name          0\n",
       "District_Name       0\n",
       "Crop_Year           0\n",
       "Season              0\n",
       "Crop                0\n",
       "Area                0\n",
       "Production       3730\n",
       "Season_ID           0\n",
       "dtype: int64"
      ]
     },
     "execution_count": 15,
     "metadata": {},
     "output_type": "execute_result"
    }
   ],
   "source": [
    "#check if there are null values in the dataset\n",
    "crop_df.isnull().sum()"
   ]
  },
  {
   "cell_type": "code",
   "execution_count": 16,
   "id": "chinese-truth",
   "metadata": {},
   "outputs": [],
   "source": [
    "#Drop the rows with null values\n",
    "crop_df = crop_df.dropna()"
   ]
  },
  {
   "cell_type": "code",
   "execution_count": 17,
   "id": "nearby-belize",
   "metadata": {},
   "outputs": [
    {
     "data": {
      "text/plain": [
       "State_Name       0\n",
       "District_Name    0\n",
       "Crop_Year        0\n",
       "Season           0\n",
       "Crop             0\n",
       "Area             0\n",
       "Production       0\n",
       "Season_ID        0\n",
       "dtype: int64"
      ]
     },
     "execution_count": 17,
     "metadata": {},
     "output_type": "execute_result"
    }
   ],
   "source": [
    "#check if there are null values in the dataset\n",
    "crop_df.isnull().sum()"
   ]
  },
  {
   "cell_type": "markdown",
   "id": "minimal-captain",
   "metadata": {},
   "source": [
    "#### converting final dataframe to csv "
   ]
  },
  {
   "cell_type": "code",
   "execution_count": 18,
   "id": "insured-center",
   "metadata": {},
   "outputs": [],
   "source": [
    "crop_df.to_csv('crop_yield.csv')"
   ]
  },
  {
   "cell_type": "code",
   "execution_count": null,
   "id": "rapid-editing",
   "metadata": {},
   "outputs": [],
   "source": []
  }
 ],
 "metadata": {
  "kernelspec": {
   "display_name": "Python 3",
   "language": "python",
   "name": "python3"
  },
  "language_info": {
   "codemirror_mode": {
    "name": "ipython",
    "version": 3
   },
   "file_extension": ".py",
   "mimetype": "text/x-python",
   "name": "python",
   "nbconvert_exporter": "python",
   "pygments_lexer": "ipython3",
   "version": "3.7.3"
  }
 },
 "nbformat": 4,
 "nbformat_minor": 5
}
