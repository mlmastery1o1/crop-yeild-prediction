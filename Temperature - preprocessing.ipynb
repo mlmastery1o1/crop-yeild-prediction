{
 "cells": [
  {
   "cell_type": "markdown",
   "id": "cleared-norman",
   "metadata": {},
   "source": [
    "### Preprocessing on Temperature data "
   ]
  },
  {
   "cell_type": "markdown",
   "id": "restricted-assault",
   "metadata": {},
   "source": [
    "#### Import libraries "
   ]
  },
  {
   "cell_type": "code",
   "execution_count": 1,
   "id": "utility-trail",
   "metadata": {},
   "outputs": [],
   "source": [
    "import pandas as pd\n",
    "import matplotlib.pyplot as plt\n",
    "import numpy as np\n",
    "import seaborn as sns"
   ]
  },
  {
   "cell_type": "markdown",
   "id": "empirical-arrival",
   "metadata": {},
   "source": [
    "#### Import datasets of temperature"
   ]
  },
  {
   "cell_type": "code",
   "execution_count": 2,
   "id": "covered-facing",
   "metadata": {},
   "outputs": [],
   "source": [
    "temp_df = pd.read_csv('temperature_data.csv', index_col=0)"
   ]
  },
  {
   "cell_type": "markdown",
   "id": "moral-command",
   "metadata": {},
   "source": [
    "#### Understanding the data"
   ]
  },
  {
   "cell_type": "code",
   "execution_count": 3,
   "id": "operating-anime",
   "metadata": {
    "scrolled": true
   },
   "outputs": [
    {
     "data": {
      "text/plain": [
       "(117, 13)"
      ]
     },
     "execution_count": 3,
     "metadata": {},
     "output_type": "execute_result"
    }
   ],
   "source": [
    "temp_df.shape"
   ]
  },
  {
   "cell_type": "code",
   "execution_count": 4,
   "id": "colored-marble",
   "metadata": {
    "scrolled": true
   },
   "outputs": [
    {
     "data": {
      "text/plain": [
       "YEAR    0\n",
       "JAN     0\n",
       "FEB     0\n",
       "MAR     0\n",
       "APR     0\n",
       "MAY     0\n",
       "JUN     0\n",
       "JUL     0\n",
       "AUG     0\n",
       "SEP     0\n",
       "OCT     0\n",
       "NOV     0\n",
       "DEC     0\n",
       "dtype: int64"
      ]
     },
     "execution_count": 4,
     "metadata": {},
     "output_type": "execute_result"
    }
   ],
   "source": [
    "temp_df.isnull().sum()"
   ]
  },
  {
   "cell_type": "markdown",
   "id": "reflected-danger",
   "metadata": {},
   "source": [
    "#### No null values "
   ]
  },
  {
   "cell_type": "code",
   "execution_count": 5,
   "id": "random-vaccine",
   "metadata": {
    "scrolled": true
   },
   "outputs": [
    {
     "data": {
      "text/html": [
       "<div>\n",
       "<style scoped>\n",
       "    .dataframe tbody tr th:only-of-type {\n",
       "        vertical-align: middle;\n",
       "    }\n",
       "\n",
       "    .dataframe tbody tr th {\n",
       "        vertical-align: top;\n",
       "    }\n",
       "\n",
       "    .dataframe thead th {\n",
       "        text-align: right;\n",
       "    }\n",
       "</style>\n",
       "<table border=\"1\" class=\"dataframe\">\n",
       "  <thead>\n",
       "    <tr style=\"text-align: right;\">\n",
       "      <th></th>\n",
       "      <th>YEAR</th>\n",
       "      <th>JAN</th>\n",
       "      <th>FEB</th>\n",
       "      <th>MAR</th>\n",
       "      <th>APR</th>\n",
       "      <th>MAY</th>\n",
       "      <th>JUN</th>\n",
       "      <th>JUL</th>\n",
       "      <th>AUG</th>\n",
       "      <th>SEP</th>\n",
       "      <th>OCT</th>\n",
       "      <th>NOV</th>\n",
       "      <th>DEC</th>\n",
       "    </tr>\n",
       "  </thead>\n",
       "  <tbody>\n",
       "    <tr>\n",
       "      <th>0</th>\n",
       "      <td>1901</td>\n",
       "      <td>17.99</td>\n",
       "      <td>19.43</td>\n",
       "      <td>23.49</td>\n",
       "      <td>26.41</td>\n",
       "      <td>28.28</td>\n",
       "      <td>28.60</td>\n",
       "      <td>27.49</td>\n",
       "      <td>26.98</td>\n",
       "      <td>26.26</td>\n",
       "      <td>25.08</td>\n",
       "      <td>21.73</td>\n",
       "      <td>18.95</td>\n",
       "    </tr>\n",
       "    <tr>\n",
       "      <th>1</th>\n",
       "      <td>1902</td>\n",
       "      <td>19.00</td>\n",
       "      <td>20.39</td>\n",
       "      <td>24.10</td>\n",
       "      <td>26.54</td>\n",
       "      <td>28.68</td>\n",
       "      <td>28.44</td>\n",
       "      <td>27.29</td>\n",
       "      <td>27.05</td>\n",
       "      <td>25.95</td>\n",
       "      <td>24.37</td>\n",
       "      <td>21.33</td>\n",
       "      <td>18.78</td>\n",
       "    </tr>\n",
       "    <tr>\n",
       "      <th>2</th>\n",
       "      <td>1903</td>\n",
       "      <td>18.32</td>\n",
       "      <td>19.79</td>\n",
       "      <td>22.46</td>\n",
       "      <td>26.03</td>\n",
       "      <td>27.93</td>\n",
       "      <td>28.41</td>\n",
       "      <td>28.04</td>\n",
       "      <td>26.63</td>\n",
       "      <td>26.34</td>\n",
       "      <td>24.57</td>\n",
       "      <td>20.96</td>\n",
       "      <td>18.29</td>\n",
       "    </tr>\n",
       "    <tr>\n",
       "      <th>3</th>\n",
       "      <td>1904</td>\n",
       "      <td>17.77</td>\n",
       "      <td>19.39</td>\n",
       "      <td>22.95</td>\n",
       "      <td>26.73</td>\n",
       "      <td>27.83</td>\n",
       "      <td>27.85</td>\n",
       "      <td>26.84</td>\n",
       "      <td>26.73</td>\n",
       "      <td>25.84</td>\n",
       "      <td>24.36</td>\n",
       "      <td>21.07</td>\n",
       "      <td>18.84</td>\n",
       "    </tr>\n",
       "    <tr>\n",
       "      <th>4</th>\n",
       "      <td>1905</td>\n",
       "      <td>17.40</td>\n",
       "      <td>17.79</td>\n",
       "      <td>21.78</td>\n",
       "      <td>24.84</td>\n",
       "      <td>28.32</td>\n",
       "      <td>28.69</td>\n",
       "      <td>27.67</td>\n",
       "      <td>27.47</td>\n",
       "      <td>26.29</td>\n",
       "      <td>26.16</td>\n",
       "      <td>22.07</td>\n",
       "      <td>18.71</td>\n",
       "    </tr>\n",
       "  </tbody>\n",
       "</table>\n",
       "</div>"
      ],
      "text/plain": [
       "   YEAR    JAN    FEB    MAR    APR    MAY    JUN    JUL    AUG    SEP    OCT  \\\n",
       "0  1901  17.99  19.43  23.49  26.41  28.28  28.60  27.49  26.98  26.26  25.08   \n",
       "1  1902  19.00  20.39  24.10  26.54  28.68  28.44  27.29  27.05  25.95  24.37   \n",
       "2  1903  18.32  19.79  22.46  26.03  27.93  28.41  28.04  26.63  26.34  24.57   \n",
       "3  1904  17.77  19.39  22.95  26.73  27.83  27.85  26.84  26.73  25.84  24.36   \n",
       "4  1905  17.40  17.79  21.78  24.84  28.32  28.69  27.67  27.47  26.29  26.16   \n",
       "\n",
       "     NOV    DEC  \n",
       "0  21.73  18.95  \n",
       "1  21.33  18.78  \n",
       "2  20.96  18.29  \n",
       "3  21.07  18.84  \n",
       "4  22.07  18.71  "
      ]
     },
     "execution_count": 5,
     "metadata": {},
     "output_type": "execute_result"
    }
   ],
   "source": [
    "temp_df.head()"
   ]
  },
  {
   "cell_type": "markdown",
   "id": "announced-racing",
   "metadata": {},
   "source": [
    "#### Renaming of the features based on the features of the CYP dataset "
   ]
  },
  {
   "cell_type": "code",
   "execution_count": 6,
   "id": "infrared-cause",
   "metadata": {},
   "outputs": [],
   "source": [
    "#renaming the columns\n",
    "temp_df.rename(columns = {'YEAR':'Crop_Year'},inplace = True)"
   ]
  },
  {
   "cell_type": "code",
   "execution_count": 7,
   "id": "chemical-matthew",
   "metadata": {},
   "outputs": [
    {
     "data": {
      "text/html": [
       "<div>\n",
       "<style scoped>\n",
       "    .dataframe tbody tr th:only-of-type {\n",
       "        vertical-align: middle;\n",
       "    }\n",
       "\n",
       "    .dataframe tbody tr th {\n",
       "        vertical-align: top;\n",
       "    }\n",
       "\n",
       "    .dataframe thead th {\n",
       "        text-align: right;\n",
       "    }\n",
       "</style>\n",
       "<table border=\"1\" class=\"dataframe\">\n",
       "  <thead>\n",
       "    <tr style=\"text-align: right;\">\n",
       "      <th></th>\n",
       "      <th>Crop_Year</th>\n",
       "      <th>JAN</th>\n",
       "      <th>FEB</th>\n",
       "      <th>MAR</th>\n",
       "      <th>APR</th>\n",
       "      <th>MAY</th>\n",
       "      <th>JUN</th>\n",
       "      <th>JUL</th>\n",
       "      <th>AUG</th>\n",
       "      <th>SEP</th>\n",
       "      <th>OCT</th>\n",
       "      <th>NOV</th>\n",
       "      <th>DEC</th>\n",
       "    </tr>\n",
       "  </thead>\n",
       "  <tbody>\n",
       "    <tr>\n",
       "      <th>0</th>\n",
       "      <td>1901</td>\n",
       "      <td>17.99</td>\n",
       "      <td>19.43</td>\n",
       "      <td>23.49</td>\n",
       "      <td>26.41</td>\n",
       "      <td>28.28</td>\n",
       "      <td>28.60</td>\n",
       "      <td>27.49</td>\n",
       "      <td>26.98</td>\n",
       "      <td>26.26</td>\n",
       "      <td>25.08</td>\n",
       "      <td>21.73</td>\n",
       "      <td>18.95</td>\n",
       "    </tr>\n",
       "    <tr>\n",
       "      <th>1</th>\n",
       "      <td>1902</td>\n",
       "      <td>19.00</td>\n",
       "      <td>20.39</td>\n",
       "      <td>24.10</td>\n",
       "      <td>26.54</td>\n",
       "      <td>28.68</td>\n",
       "      <td>28.44</td>\n",
       "      <td>27.29</td>\n",
       "      <td>27.05</td>\n",
       "      <td>25.95</td>\n",
       "      <td>24.37</td>\n",
       "      <td>21.33</td>\n",
       "      <td>18.78</td>\n",
       "    </tr>\n",
       "    <tr>\n",
       "      <th>2</th>\n",
       "      <td>1903</td>\n",
       "      <td>18.32</td>\n",
       "      <td>19.79</td>\n",
       "      <td>22.46</td>\n",
       "      <td>26.03</td>\n",
       "      <td>27.93</td>\n",
       "      <td>28.41</td>\n",
       "      <td>28.04</td>\n",
       "      <td>26.63</td>\n",
       "      <td>26.34</td>\n",
       "      <td>24.57</td>\n",
       "      <td>20.96</td>\n",
       "      <td>18.29</td>\n",
       "    </tr>\n",
       "    <tr>\n",
       "      <th>3</th>\n",
       "      <td>1904</td>\n",
       "      <td>17.77</td>\n",
       "      <td>19.39</td>\n",
       "      <td>22.95</td>\n",
       "      <td>26.73</td>\n",
       "      <td>27.83</td>\n",
       "      <td>27.85</td>\n",
       "      <td>26.84</td>\n",
       "      <td>26.73</td>\n",
       "      <td>25.84</td>\n",
       "      <td>24.36</td>\n",
       "      <td>21.07</td>\n",
       "      <td>18.84</td>\n",
       "    </tr>\n",
       "    <tr>\n",
       "      <th>4</th>\n",
       "      <td>1905</td>\n",
       "      <td>17.40</td>\n",
       "      <td>17.79</td>\n",
       "      <td>21.78</td>\n",
       "      <td>24.84</td>\n",
       "      <td>28.32</td>\n",
       "      <td>28.69</td>\n",
       "      <td>27.67</td>\n",
       "      <td>27.47</td>\n",
       "      <td>26.29</td>\n",
       "      <td>26.16</td>\n",
       "      <td>22.07</td>\n",
       "      <td>18.71</td>\n",
       "    </tr>\n",
       "  </tbody>\n",
       "</table>\n",
       "</div>"
      ],
      "text/plain": [
       "   Crop_Year    JAN    FEB    MAR    APR    MAY    JUN    JUL    AUG    SEP  \\\n",
       "0       1901  17.99  19.43  23.49  26.41  28.28  28.60  27.49  26.98  26.26   \n",
       "1       1902  19.00  20.39  24.10  26.54  28.68  28.44  27.29  27.05  25.95   \n",
       "2       1903  18.32  19.79  22.46  26.03  27.93  28.41  28.04  26.63  26.34   \n",
       "3       1904  17.77  19.39  22.95  26.73  27.83  27.85  26.84  26.73  25.84   \n",
       "4       1905  17.40  17.79  21.78  24.84  28.32  28.69  27.67  27.47  26.29   \n",
       "\n",
       "     OCT    NOV    DEC  \n",
       "0  25.08  21.73  18.95  \n",
       "1  24.37  21.33  18.78  \n",
       "2  24.57  20.96  18.29  \n",
       "3  24.36  21.07  18.84  \n",
       "4  26.16  22.07  18.71  "
      ]
     },
     "execution_count": 7,
     "metadata": {},
     "output_type": "execute_result"
    }
   ],
   "source": [
    "temp_df.head()"
   ]
  },
  {
   "cell_type": "markdown",
   "id": "vital-creator",
   "metadata": {},
   "source": [
    "####  Computing the mean temperature for kharif, rabi, whole year and summer"
   ]
  },
  {
   "cell_type": "markdown",
   "id": "intense-fusion",
   "metadata": {},
   "source": [
    "    The kharif cropping season is from July –October \n",
    "    Rabi cropping season is from October-March (winter). \n",
    "    The crops grown between March and June are summer crops "
   ]
  },
  {
   "cell_type": "code",
   "execution_count": 8,
   "id": "classical-punch",
   "metadata": {
    "scrolled": true
   },
   "outputs": [
    {
     "data": {
      "text/html": [
       "<div>\n",
       "<style scoped>\n",
       "    .dataframe tbody tr th:only-of-type {\n",
       "        vertical-align: middle;\n",
       "    }\n",
       "\n",
       "    .dataframe tbody tr th {\n",
       "        vertical-align: top;\n",
       "    }\n",
       "\n",
       "    .dataframe thead th {\n",
       "        text-align: right;\n",
       "    }\n",
       "</style>\n",
       "<table border=\"1\" class=\"dataframe\">\n",
       "  <thead>\n",
       "    <tr style=\"text-align: right;\">\n",
       "      <th></th>\n",
       "      <th>Crop_Year</th>\n",
       "      <th>JAN</th>\n",
       "      <th>FEB</th>\n",
       "      <th>MAR</th>\n",
       "      <th>APR</th>\n",
       "      <th>MAY</th>\n",
       "      <th>JUN</th>\n",
       "      <th>JUL</th>\n",
       "      <th>AUG</th>\n",
       "      <th>SEP</th>\n",
       "      <th>OCT</th>\n",
       "      <th>NOV</th>\n",
       "      <th>DEC</th>\n",
       "      <th>kharif</th>\n",
       "      <th>rabi</th>\n",
       "      <th>whole_year</th>\n",
       "      <th>summer</th>\n",
       "    </tr>\n",
       "  </thead>\n",
       "  <tbody>\n",
       "    <tr>\n",
       "      <th>0</th>\n",
       "      <td>1901</td>\n",
       "      <td>17.99</td>\n",
       "      <td>19.43</td>\n",
       "      <td>23.49</td>\n",
       "      <td>26.41</td>\n",
       "      <td>28.28</td>\n",
       "      <td>28.60</td>\n",
       "      <td>27.49</td>\n",
       "      <td>26.98</td>\n",
       "      <td>26.26</td>\n",
       "      <td>25.08</td>\n",
       "      <td>21.73</td>\n",
       "      <td>18.95</td>\n",
       "      <td>26.4525</td>\n",
       "      <td>20.318</td>\n",
       "      <td>24.224167</td>\n",
       "      <td>27.763333</td>\n",
       "    </tr>\n",
       "    <tr>\n",
       "      <th>1</th>\n",
       "      <td>1902</td>\n",
       "      <td>19.00</td>\n",
       "      <td>20.39</td>\n",
       "      <td>24.10</td>\n",
       "      <td>26.54</td>\n",
       "      <td>28.68</td>\n",
       "      <td>28.44</td>\n",
       "      <td>27.29</td>\n",
       "      <td>27.05</td>\n",
       "      <td>25.95</td>\n",
       "      <td>24.37</td>\n",
       "      <td>21.33</td>\n",
       "      <td>18.78</td>\n",
       "      <td>26.1650</td>\n",
       "      <td>20.720</td>\n",
       "      <td>24.326667</td>\n",
       "      <td>27.886667</td>\n",
       "    </tr>\n",
       "    <tr>\n",
       "      <th>2</th>\n",
       "      <td>1903</td>\n",
       "      <td>18.32</td>\n",
       "      <td>19.79</td>\n",
       "      <td>22.46</td>\n",
       "      <td>26.03</td>\n",
       "      <td>27.93</td>\n",
       "      <td>28.41</td>\n",
       "      <td>28.04</td>\n",
       "      <td>26.63</td>\n",
       "      <td>26.34</td>\n",
       "      <td>24.57</td>\n",
       "      <td>20.96</td>\n",
       "      <td>18.29</td>\n",
       "      <td>26.3950</td>\n",
       "      <td>19.964</td>\n",
       "      <td>23.980833</td>\n",
       "      <td>27.456667</td>\n",
       "    </tr>\n",
       "    <tr>\n",
       "      <th>3</th>\n",
       "      <td>1904</td>\n",
       "      <td>17.77</td>\n",
       "      <td>19.39</td>\n",
       "      <td>22.95</td>\n",
       "      <td>26.73</td>\n",
       "      <td>27.83</td>\n",
       "      <td>27.85</td>\n",
       "      <td>26.84</td>\n",
       "      <td>26.73</td>\n",
       "      <td>25.84</td>\n",
       "      <td>24.36</td>\n",
       "      <td>21.07</td>\n",
       "      <td>18.84</td>\n",
       "      <td>25.9425</td>\n",
       "      <td>20.004</td>\n",
       "      <td>23.850000</td>\n",
       "      <td>27.470000</td>\n",
       "    </tr>\n",
       "    <tr>\n",
       "      <th>4</th>\n",
       "      <td>1905</td>\n",
       "      <td>17.40</td>\n",
       "      <td>17.79</td>\n",
       "      <td>21.78</td>\n",
       "      <td>24.84</td>\n",
       "      <td>28.32</td>\n",
       "      <td>28.69</td>\n",
       "      <td>27.67</td>\n",
       "      <td>27.47</td>\n",
       "      <td>26.29</td>\n",
       "      <td>26.16</td>\n",
       "      <td>22.07</td>\n",
       "      <td>18.71</td>\n",
       "      <td>26.8975</td>\n",
       "      <td>19.550</td>\n",
       "      <td>23.932500</td>\n",
       "      <td>27.283333</td>\n",
       "    </tr>\n",
       "  </tbody>\n",
       "</table>\n",
       "</div>"
      ],
      "text/plain": [
       "   Crop_Year    JAN    FEB    MAR    APR    MAY    JUN    JUL    AUG    SEP  \\\n",
       "0       1901  17.99  19.43  23.49  26.41  28.28  28.60  27.49  26.98  26.26   \n",
       "1       1902  19.00  20.39  24.10  26.54  28.68  28.44  27.29  27.05  25.95   \n",
       "2       1903  18.32  19.79  22.46  26.03  27.93  28.41  28.04  26.63  26.34   \n",
       "3       1904  17.77  19.39  22.95  26.73  27.83  27.85  26.84  26.73  25.84   \n",
       "4       1905  17.40  17.79  21.78  24.84  28.32  28.69  27.67  27.47  26.29   \n",
       "\n",
       "     OCT    NOV    DEC   kharif    rabi  whole_year     summer  \n",
       "0  25.08  21.73  18.95  26.4525  20.318   24.224167  27.763333  \n",
       "1  24.37  21.33  18.78  26.1650  20.720   24.326667  27.886667  \n",
       "2  24.57  20.96  18.29  26.3950  19.964   23.980833  27.456667  \n",
       "3  24.36  21.07  18.84  25.9425  20.004   23.850000  27.470000  \n",
       "4  26.16  22.07  18.71  26.8975  19.550   23.932500  27.283333  "
      ]
     },
     "execution_count": 8,
     "metadata": {},
     "output_type": "execute_result"
    }
   ],
   "source": [
    "kharif = temp_df.iloc[ : , 7:11]\n",
    "rabi = temp_df.iloc[ : ,[11, 12, 1, 2, 3]]\n",
    "whole_year = temp_df.iloc[:,1:13 ]\n",
    "summer = temp_df.iloc[:, 4:7]\n",
    "temp_df['kharif'] = kharif.mean(axis = 1)\n",
    "temp_df['rabi'] = rabi.mean(axis = 1)\n",
    "temp_df['whole_year'] = whole_year.mean(axis = 1)\n",
    "temp_df['summer'] = summer.mean(axis = 1)\n",
    "#kharif, rabi, whole_year, summer\n",
    "temp_df.head()"
   ]
  },
  {
   "cell_type": "markdown",
   "id": "inside-fifth",
   "metadata": {},
   "source": [
    "#### Extracting required feature from the dataframe "
   ]
  },
  {
   "cell_type": "code",
   "execution_count": 9,
   "id": "adopted-virgin",
   "metadata": {},
   "outputs": [],
   "source": [
    "temp_df1 = pd.melt(temp_df.iloc[:,[0,13,14,15,16]], id_vars=[\"Crop_Year\"], var_name=\"Season\", value_name=\"Temperature(M)\")"
   ]
  },
  {
   "cell_type": "code",
   "execution_count": 10,
   "id": "postal-feedback",
   "metadata": {},
   "outputs": [
    {
     "data": {
      "text/html": [
       "<div>\n",
       "<style scoped>\n",
       "    .dataframe tbody tr th:only-of-type {\n",
       "        vertical-align: middle;\n",
       "    }\n",
       "\n",
       "    .dataframe tbody tr th {\n",
       "        vertical-align: top;\n",
       "    }\n",
       "\n",
       "    .dataframe thead th {\n",
       "        text-align: right;\n",
       "    }\n",
       "</style>\n",
       "<table border=\"1\" class=\"dataframe\">\n",
       "  <thead>\n",
       "    <tr style=\"text-align: right;\">\n",
       "      <th></th>\n",
       "      <th>Crop_Year</th>\n",
       "      <th>Season</th>\n",
       "      <th>Temperature(M)</th>\n",
       "    </tr>\n",
       "  </thead>\n",
       "  <tbody>\n",
       "    <tr>\n",
       "      <th>0</th>\n",
       "      <td>1901</td>\n",
       "      <td>kharif</td>\n",
       "      <td>26.4525</td>\n",
       "    </tr>\n",
       "    <tr>\n",
       "      <th>1</th>\n",
       "      <td>1902</td>\n",
       "      <td>kharif</td>\n",
       "      <td>26.1650</td>\n",
       "    </tr>\n",
       "    <tr>\n",
       "      <th>2</th>\n",
       "      <td>1903</td>\n",
       "      <td>kharif</td>\n",
       "      <td>26.3950</td>\n",
       "    </tr>\n",
       "    <tr>\n",
       "      <th>3</th>\n",
       "      <td>1904</td>\n",
       "      <td>kharif</td>\n",
       "      <td>25.9425</td>\n",
       "    </tr>\n",
       "    <tr>\n",
       "      <th>4</th>\n",
       "      <td>1905</td>\n",
       "      <td>kharif</td>\n",
       "      <td>26.8975</td>\n",
       "    </tr>\n",
       "  </tbody>\n",
       "</table>\n",
       "</div>"
      ],
      "text/plain": [
       "   Crop_Year  Season  Temperature(M)\n",
       "0       1901  kharif         26.4525\n",
       "1       1902  kharif         26.1650\n",
       "2       1903  kharif         26.3950\n",
       "3       1904  kharif         25.9425\n",
       "4       1905  kharif         26.8975"
      ]
     },
     "execution_count": 10,
     "metadata": {},
     "output_type": "execute_result"
    }
   ],
   "source": [
    "temp_df1.head()"
   ]
  },
  {
   "cell_type": "markdown",
   "id": "million-grace",
   "metadata": {},
   "source": [
    "#### Converting the final dataframe into a csv file "
   ]
  },
  {
   "cell_type": "code",
   "execution_count": 11,
   "id": "mental-victim",
   "metadata": {},
   "outputs": [],
   "source": [
    "temp_df1.to_csv('Temperature.csv')"
   ]
  },
  {
   "cell_type": "code",
   "execution_count": 12,
   "id": "latter-moscow",
   "metadata": {},
   "outputs": [],
   "source": [
    "temp_df1 = pd.read_csv('Temperature.csv', index_col=0)"
   ]
  },
  {
   "cell_type": "code",
   "execution_count": 13,
   "id": "deadly-timber",
   "metadata": {},
   "outputs": [
    {
     "data": {
      "text/html": [
       "<div>\n",
       "<style scoped>\n",
       "    .dataframe tbody tr th:only-of-type {\n",
       "        vertical-align: middle;\n",
       "    }\n",
       "\n",
       "    .dataframe tbody tr th {\n",
       "        vertical-align: top;\n",
       "    }\n",
       "\n",
       "    .dataframe thead th {\n",
       "        text-align: right;\n",
       "    }\n",
       "</style>\n",
       "<table border=\"1\" class=\"dataframe\">\n",
       "  <thead>\n",
       "    <tr style=\"text-align: right;\">\n",
       "      <th></th>\n",
       "      <th>Crop_Year</th>\n",
       "      <th>Season</th>\n",
       "      <th>Temperature(M)</th>\n",
       "    </tr>\n",
       "  </thead>\n",
       "  <tbody>\n",
       "    <tr>\n",
       "      <th>0</th>\n",
       "      <td>1901</td>\n",
       "      <td>kharif</td>\n",
       "      <td>26.4525</td>\n",
       "    </tr>\n",
       "    <tr>\n",
       "      <th>1</th>\n",
       "      <td>1902</td>\n",
       "      <td>kharif</td>\n",
       "      <td>26.1650</td>\n",
       "    </tr>\n",
       "    <tr>\n",
       "      <th>2</th>\n",
       "      <td>1903</td>\n",
       "      <td>kharif</td>\n",
       "      <td>26.3950</td>\n",
       "    </tr>\n",
       "    <tr>\n",
       "      <th>3</th>\n",
       "      <td>1904</td>\n",
       "      <td>kharif</td>\n",
       "      <td>25.9425</td>\n",
       "    </tr>\n",
       "    <tr>\n",
       "      <th>4</th>\n",
       "      <td>1905</td>\n",
       "      <td>kharif</td>\n",
       "      <td>26.8975</td>\n",
       "    </tr>\n",
       "  </tbody>\n",
       "</table>\n",
       "</div>"
      ],
      "text/plain": [
       "   Crop_Year  Season  Temperature(M)\n",
       "0       1901  kharif         26.4525\n",
       "1       1902  kharif         26.1650\n",
       "2       1903  kharif         26.3950\n",
       "3       1904  kharif         25.9425\n",
       "4       1905  kharif         26.8975"
      ]
     },
     "execution_count": 13,
     "metadata": {},
     "output_type": "execute_result"
    }
   ],
   "source": [
    "temp_df1.head()"
   ]
  },
  {
   "cell_type": "code",
   "execution_count": null,
   "id": "treated-manitoba",
   "metadata": {},
   "outputs": [],
   "source": []
  }
 ],
 "metadata": {
  "kernelspec": {
   "display_name": "Python 3",
   "language": "python",
   "name": "python3"
  },
  "language_info": {
   "codemirror_mode": {
    "name": "ipython",
    "version": 3
   },
   "file_extension": ".py",
   "mimetype": "text/x-python",
   "name": "python",
   "nbconvert_exporter": "python",
   "pygments_lexer": "ipython3",
   "version": "3.7.3"
  }
 },
 "nbformat": 4,
 "nbformat_minor": 5
}
