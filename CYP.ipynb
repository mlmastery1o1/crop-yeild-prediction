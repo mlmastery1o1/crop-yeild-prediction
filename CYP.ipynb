{
 "cells": [
  {
   "cell_type": "markdown",
   "id": "binding-numbers",
   "metadata": {},
   "source": [
    "### Yield measurement of crop production (Crop Yield Prediction- CYP)   \n",
    "#### To develop a model to predict the yield of a crop before cultivating into the agricultural field."
   ]
  },
  {
   "cell_type": "markdown",
   "id": "cosmetic-musician",
   "metadata": {},
   "source": [
    "#### Import libraries "
   ]
  },
  {
   "cell_type": "code",
   "execution_count": 1,
   "id": "exposed-gazette",
   "metadata": {},
   "outputs": [],
   "source": [
    "import pandas as pd\n",
    "import matplotlib.pyplot as plt\n",
    "import numpy as np\n",
    "import seaborn as sns"
   ]
  },
  {
   "cell_type": "markdown",
   "id": "liquid-needle",
   "metadata": {},
   "source": [
    "#### Import preprocessed data"
   ]
  },
  {
   "cell_type": "code",
   "execution_count": 2,
   "id": "needed-alpha",
   "metadata": {},
   "outputs": [],
   "source": [
    "crop_df = pd.read_csv('crop_yield.csv', index_col = 0)\n",
    "rainfall_df = pd.read_csv('Rainfall.csv', index_col = 0)\n",
    "temp_df = pd.read_csv('Temperature.csv', index_col = 0)"
   ]
  },
  {
   "cell_type": "code",
   "execution_count": 3,
   "id": "cutting-testimony",
   "metadata": {
    "scrolled": true
   },
   "outputs": [
    {
     "data": {
      "text/html": [
       "<div>\n",
       "<style scoped>\n",
       "    .dataframe tbody tr th:only-of-type {\n",
       "        vertical-align: middle;\n",
       "    }\n",
       "\n",
       "    .dataframe tbody tr th {\n",
       "        vertical-align: top;\n",
       "    }\n",
       "\n",
       "    .dataframe thead th {\n",
       "        text-align: right;\n",
       "    }\n",
       "</style>\n",
       "<table border=\"1\" class=\"dataframe\">\n",
       "  <thead>\n",
       "    <tr style=\"text-align: right;\">\n",
       "      <th></th>\n",
       "      <th>State_Name</th>\n",
       "      <th>District_Name</th>\n",
       "      <th>Crop_Year</th>\n",
       "      <th>Season</th>\n",
       "      <th>Crop</th>\n",
       "      <th>Area</th>\n",
       "      <th>Production</th>\n",
       "      <th>Season_ID</th>\n",
       "    </tr>\n",
       "  </thead>\n",
       "  <tbody>\n",
       "    <tr>\n",
       "      <th>0</th>\n",
       "      <td>andaman and nicobar islands</td>\n",
       "      <td>nicobars</td>\n",
       "      <td>2000</td>\n",
       "      <td>Kharif</td>\n",
       "      <td>Arecanut</td>\n",
       "      <td>1254.0</td>\n",
       "      <td>2000.0</td>\n",
       "      <td>0</td>\n",
       "    </tr>\n",
       "    <tr>\n",
       "      <th>1</th>\n",
       "      <td>andaman and nicobar islands</td>\n",
       "      <td>nicobars</td>\n",
       "      <td>2000</td>\n",
       "      <td>Kharif</td>\n",
       "      <td>Other Kharif pulses</td>\n",
       "      <td>2.0</td>\n",
       "      <td>1.0</td>\n",
       "      <td>0</td>\n",
       "    </tr>\n",
       "    <tr>\n",
       "      <th>2</th>\n",
       "      <td>andaman and nicobar islands</td>\n",
       "      <td>nicobars</td>\n",
       "      <td>2000</td>\n",
       "      <td>Kharif</td>\n",
       "      <td>Rice</td>\n",
       "      <td>102.0</td>\n",
       "      <td>321.0</td>\n",
       "      <td>0</td>\n",
       "    </tr>\n",
       "    <tr>\n",
       "      <th>3</th>\n",
       "      <td>andaman and nicobar islands</td>\n",
       "      <td>nicobars</td>\n",
       "      <td>2000</td>\n",
       "      <td>whole_year</td>\n",
       "      <td>Banana</td>\n",
       "      <td>176.0</td>\n",
       "      <td>641.0</td>\n",
       "      <td>3</td>\n",
       "    </tr>\n",
       "    <tr>\n",
       "      <th>4</th>\n",
       "      <td>andaman and nicobar islands</td>\n",
       "      <td>nicobars</td>\n",
       "      <td>2000</td>\n",
       "      <td>whole_year</td>\n",
       "      <td>Cashewnut</td>\n",
       "      <td>720.0</td>\n",
       "      <td>165.0</td>\n",
       "      <td>3</td>\n",
       "    </tr>\n",
       "  </tbody>\n",
       "</table>\n",
       "</div>"
      ],
      "text/plain": [
       "                    State_Name District_Name  Crop_Year      Season  \\\n",
       "0  andaman and nicobar islands      nicobars       2000      Kharif   \n",
       "1  andaman and nicobar islands      nicobars       2000      Kharif   \n",
       "2  andaman and nicobar islands      nicobars       2000      Kharif   \n",
       "3  andaman and nicobar islands      nicobars       2000  whole_year   \n",
       "4  andaman and nicobar islands      nicobars       2000  whole_year   \n",
       "\n",
       "                  Crop    Area  Production  Season_ID  \n",
       "0             Arecanut  1254.0      2000.0          0  \n",
       "1  Other Kharif pulses     2.0         1.0          0  \n",
       "2                 Rice   102.0       321.0          0  \n",
       "3               Banana   176.0       641.0          3  \n",
       "4            Cashewnut   720.0       165.0          3  "
      ]
     },
     "execution_count": 3,
     "metadata": {},
     "output_type": "execute_result"
    }
   ],
   "source": [
    "crop_df.head()"
   ]
  },
  {
   "cell_type": "code",
   "execution_count": 4,
   "id": "indie-lightning",
   "metadata": {},
   "outputs": [
    {
     "data": {
      "text/html": [
       "<div>\n",
       "<style scoped>\n",
       "    .dataframe tbody tr th:only-of-type {\n",
       "        vertical-align: middle;\n",
       "    }\n",
       "\n",
       "    .dataframe tbody tr th {\n",
       "        vertical-align: top;\n",
       "    }\n",
       "\n",
       "    .dataframe thead th {\n",
       "        text-align: right;\n",
       "    }\n",
       "</style>\n",
       "<table border=\"1\" class=\"dataframe\">\n",
       "  <thead>\n",
       "    <tr style=\"text-align: right;\">\n",
       "      <th></th>\n",
       "      <th>State_Name</th>\n",
       "      <th>District_Name</th>\n",
       "      <th>Crop_Year</th>\n",
       "      <th>Season</th>\n",
       "      <th>Rainfall</th>\n",
       "    </tr>\n",
       "  </thead>\n",
       "  <tbody>\n",
       "    <tr>\n",
       "      <th>0</th>\n",
       "      <td>andhra pradesh</td>\n",
       "      <td>adilabad</td>\n",
       "      <td>1901</td>\n",
       "      <td>kharif</td>\n",
       "      <td>199.97725</td>\n",
       "    </tr>\n",
       "    <tr>\n",
       "      <th>1</th>\n",
       "      <td>andhra pradesh</td>\n",
       "      <td>adilabad</td>\n",
       "      <td>1902</td>\n",
       "      <td>kharif</td>\n",
       "      <td>156.64200</td>\n",
       "    </tr>\n",
       "    <tr>\n",
       "      <th>2</th>\n",
       "      <td>andhra pradesh</td>\n",
       "      <td>adilabad</td>\n",
       "      <td>1903</td>\n",
       "      <td>kharif</td>\n",
       "      <td>284.00250</td>\n",
       "    </tr>\n",
       "    <tr>\n",
       "      <th>3</th>\n",
       "      <td>andhra pradesh</td>\n",
       "      <td>adilabad</td>\n",
       "      <td>1904</td>\n",
       "      <td>kharif</td>\n",
       "      <td>151.13175</td>\n",
       "    </tr>\n",
       "    <tr>\n",
       "      <th>4</th>\n",
       "      <td>andhra pradesh</td>\n",
       "      <td>adilabad</td>\n",
       "      <td>1905</td>\n",
       "      <td>kharif</td>\n",
       "      <td>194.12500</td>\n",
       "    </tr>\n",
       "  </tbody>\n",
       "</table>\n",
       "</div>"
      ],
      "text/plain": [
       "       State_Name District_Name  Crop_Year  Season   Rainfall\n",
       "0  andhra pradesh      adilabad       1901  kharif  199.97725\n",
       "1  andhra pradesh      adilabad       1902  kharif  156.64200\n",
       "2  andhra pradesh      adilabad       1903  kharif  284.00250\n",
       "3  andhra pradesh      adilabad       1904  kharif  151.13175\n",
       "4  andhra pradesh      adilabad       1905  kharif  194.12500"
      ]
     },
     "execution_count": 4,
     "metadata": {},
     "output_type": "execute_result"
    }
   ],
   "source": [
    "rainfall_df.head()"
   ]
  },
  {
   "cell_type": "code",
   "execution_count": 5,
   "id": "enhanced-marketing",
   "metadata": {},
   "outputs": [
    {
     "data": {
      "text/html": [
       "<div>\n",
       "<style scoped>\n",
       "    .dataframe tbody tr th:only-of-type {\n",
       "        vertical-align: middle;\n",
       "    }\n",
       "\n",
       "    .dataframe tbody tr th {\n",
       "        vertical-align: top;\n",
       "    }\n",
       "\n",
       "    .dataframe thead th {\n",
       "        text-align: right;\n",
       "    }\n",
       "</style>\n",
       "<table border=\"1\" class=\"dataframe\">\n",
       "  <thead>\n",
       "    <tr style=\"text-align: right;\">\n",
       "      <th></th>\n",
       "      <th>Crop_Year</th>\n",
       "      <th>Season</th>\n",
       "      <th>Temperature(M)</th>\n",
       "    </tr>\n",
       "  </thead>\n",
       "  <tbody>\n",
       "    <tr>\n",
       "      <th>0</th>\n",
       "      <td>1901</td>\n",
       "      <td>kharif</td>\n",
       "      <td>26.4525</td>\n",
       "    </tr>\n",
       "    <tr>\n",
       "      <th>1</th>\n",
       "      <td>1902</td>\n",
       "      <td>kharif</td>\n",
       "      <td>26.1650</td>\n",
       "    </tr>\n",
       "    <tr>\n",
       "      <th>2</th>\n",
       "      <td>1903</td>\n",
       "      <td>kharif</td>\n",
       "      <td>26.3950</td>\n",
       "    </tr>\n",
       "    <tr>\n",
       "      <th>3</th>\n",
       "      <td>1904</td>\n",
       "      <td>kharif</td>\n",
       "      <td>25.9425</td>\n",
       "    </tr>\n",
       "    <tr>\n",
       "      <th>4</th>\n",
       "      <td>1905</td>\n",
       "      <td>kharif</td>\n",
       "      <td>26.8975</td>\n",
       "    </tr>\n",
       "  </tbody>\n",
       "</table>\n",
       "</div>"
      ],
      "text/plain": [
       "   Crop_Year  Season  Temperature(M)\n",
       "0       1901  kharif         26.4525\n",
       "1       1902  kharif         26.1650\n",
       "2       1903  kharif         26.3950\n",
       "3       1904  kharif         25.9425\n",
       "4       1905  kharif         26.8975"
      ]
     },
     "execution_count": 5,
     "metadata": {},
     "output_type": "execute_result"
    }
   ],
   "source": [
    "temp_df.head()"
   ]
  },
  {
   "cell_type": "markdown",
   "id": "departmental-harvest",
   "metadata": {},
   "source": [
    "#### Merge the datasets based on the same columns"
   ]
  },
  {
   "cell_type": "markdown",
   "id": "conditional-haven",
   "metadata": {},
   "source": [
    "#### Merging crop data and rainfall data "
   ]
  },
  {
   "cell_type": "code",
   "execution_count": 6,
   "id": "therapeutic-allocation",
   "metadata": {},
   "outputs": [],
   "source": [
    "#Merging crop data and rainfall data based on'State_Name','District_Name','Crop_Year','Season' parameters\n",
    "FCD_df = pd.merge(crop_df, rainfall_df, how='inner', left_on=['State_Name','District_Name','Crop_Year','Season'], right_on = ['State_Name','District_Name','Crop_Year', 'Season'])"
   ]
  },
  {
   "cell_type": "code",
   "execution_count": 7,
   "id": "republican-venture",
   "metadata": {},
   "outputs": [
    {
     "data": {
      "text/html": [
       "<div>\n",
       "<style scoped>\n",
       "    .dataframe tbody tr th:only-of-type {\n",
       "        vertical-align: middle;\n",
       "    }\n",
       "\n",
       "    .dataframe tbody tr th {\n",
       "        vertical-align: top;\n",
       "    }\n",
       "\n",
       "    .dataframe thead th {\n",
       "        text-align: right;\n",
       "    }\n",
       "</style>\n",
       "<table border=\"1\" class=\"dataframe\">\n",
       "  <thead>\n",
       "    <tr style=\"text-align: right;\">\n",
       "      <th></th>\n",
       "      <th>State_Name</th>\n",
       "      <th>District_Name</th>\n",
       "      <th>Crop_Year</th>\n",
       "      <th>Season</th>\n",
       "      <th>Crop</th>\n",
       "      <th>Area</th>\n",
       "      <th>Production</th>\n",
       "      <th>Season_ID</th>\n",
       "      <th>Rainfall</th>\n",
       "    </tr>\n",
       "  </thead>\n",
       "  <tbody>\n",
       "    <tr>\n",
       "      <th>0</th>\n",
       "      <td>andhra pradesh</td>\n",
       "      <td>anantapur</td>\n",
       "      <td>1998</td>\n",
       "      <td>whole_year</td>\n",
       "      <td>Sugarcane</td>\n",
       "      <td>700.0</td>\n",
       "      <td>65900.0</td>\n",
       "      <td>3</td>\n",
       "      <td>73.456083</td>\n",
       "    </tr>\n",
       "    <tr>\n",
       "      <th>1</th>\n",
       "      <td>andhra pradesh</td>\n",
       "      <td>anantapur</td>\n",
       "      <td>1998</td>\n",
       "      <td>whole_year</td>\n",
       "      <td>Tobacco</td>\n",
       "      <td>100.0</td>\n",
       "      <td>100.0</td>\n",
       "      <td>3</td>\n",
       "      <td>73.456083</td>\n",
       "    </tr>\n",
       "    <tr>\n",
       "      <th>2</th>\n",
       "      <td>andhra pradesh</td>\n",
       "      <td>anantapur</td>\n",
       "      <td>1999</td>\n",
       "      <td>whole_year</td>\n",
       "      <td>Dry chillies</td>\n",
       "      <td>5199.0</td>\n",
       "      <td>5759.0</td>\n",
       "      <td>3</td>\n",
       "      <td>53.643333</td>\n",
       "    </tr>\n",
       "    <tr>\n",
       "      <th>3</th>\n",
       "      <td>andhra pradesh</td>\n",
       "      <td>anantapur</td>\n",
       "      <td>1999</td>\n",
       "      <td>whole_year</td>\n",
       "      <td>Onion</td>\n",
       "      <td>1770.0</td>\n",
       "      <td>32364.0</td>\n",
       "      <td>3</td>\n",
       "      <td>53.643333</td>\n",
       "    </tr>\n",
       "    <tr>\n",
       "      <th>4</th>\n",
       "      <td>andhra pradesh</td>\n",
       "      <td>anantapur</td>\n",
       "      <td>1999</td>\n",
       "      <td>whole_year</td>\n",
       "      <td>Sugarcane</td>\n",
       "      <td>884.0</td>\n",
       "      <td>83126.0</td>\n",
       "      <td>3</td>\n",
       "      <td>53.643333</td>\n",
       "    </tr>\n",
       "  </tbody>\n",
       "</table>\n",
       "</div>"
      ],
      "text/plain": [
       "       State_Name District_Name  Crop_Year      Season          Crop    Area  \\\n",
       "0  andhra pradesh     anantapur       1998  whole_year     Sugarcane   700.0   \n",
       "1  andhra pradesh     anantapur       1998  whole_year       Tobacco   100.0   \n",
       "2  andhra pradesh     anantapur       1999  whole_year  Dry chillies  5199.0   \n",
       "3  andhra pradesh     anantapur       1999  whole_year         Onion  1770.0   \n",
       "4  andhra pradesh     anantapur       1999  whole_year     Sugarcane   884.0   \n",
       "\n",
       "   Production  Season_ID   Rainfall  \n",
       "0     65900.0          3  73.456083  \n",
       "1       100.0          3  73.456083  \n",
       "2      5759.0          3  53.643333  \n",
       "3     32364.0          3  53.643333  \n",
       "4     83126.0          3  53.643333  "
      ]
     },
     "execution_count": 7,
     "metadata": {},
     "output_type": "execute_result"
    }
   ],
   "source": [
    "FCD_df.head()"
   ]
  },
  {
   "cell_type": "code",
   "execution_count": 8,
   "id": "objective-cyprus",
   "metadata": {},
   "outputs": [],
   "source": [
    "#Merging crop data and temperature data based on 'Crop_Year','Season' parameters\n",
    "CP_df = pd.merge(FCD_df, temp_df, how='inner', left_on=['Crop_Year','Season'], right_on = ['Crop_Year','Season'])"
   ]
  },
  {
   "cell_type": "markdown",
   "id": "external-interference",
   "metadata": {},
   "source": [
    "#### Final dataframe "
   ]
  },
  {
   "cell_type": "code",
   "execution_count": 9,
   "id": "taken-ghost",
   "metadata": {},
   "outputs": [
    {
     "data": {
      "text/html": [
       "<div>\n",
       "<style scoped>\n",
       "    .dataframe tbody tr th:only-of-type {\n",
       "        vertical-align: middle;\n",
       "    }\n",
       "\n",
       "    .dataframe tbody tr th {\n",
       "        vertical-align: top;\n",
       "    }\n",
       "\n",
       "    .dataframe thead th {\n",
       "        text-align: right;\n",
       "    }\n",
       "</style>\n",
       "<table border=\"1\" class=\"dataframe\">\n",
       "  <thead>\n",
       "    <tr style=\"text-align: right;\">\n",
       "      <th></th>\n",
       "      <th>State_Name</th>\n",
       "      <th>District_Name</th>\n",
       "      <th>Crop_Year</th>\n",
       "      <th>Season</th>\n",
       "      <th>Crop</th>\n",
       "      <th>Area</th>\n",
       "      <th>Production</th>\n",
       "      <th>Season_ID</th>\n",
       "      <th>Rainfall</th>\n",
       "      <th>Temperature(M)</th>\n",
       "    </tr>\n",
       "  </thead>\n",
       "  <tbody>\n",
       "    <tr>\n",
       "      <th>0</th>\n",
       "      <td>andhra pradesh</td>\n",
       "      <td>anantapur</td>\n",
       "      <td>1998</td>\n",
       "      <td>whole_year</td>\n",
       "      <td>Sugarcane</td>\n",
       "      <td>700.0</td>\n",
       "      <td>65900.0</td>\n",
       "      <td>3</td>\n",
       "      <td>73.456083</td>\n",
       "      <td>24.695</td>\n",
       "    </tr>\n",
       "    <tr>\n",
       "      <th>1</th>\n",
       "      <td>andhra pradesh</td>\n",
       "      <td>anantapur</td>\n",
       "      <td>1998</td>\n",
       "      <td>whole_year</td>\n",
       "      <td>Tobacco</td>\n",
       "      <td>100.0</td>\n",
       "      <td>100.0</td>\n",
       "      <td>3</td>\n",
       "      <td>73.456083</td>\n",
       "      <td>24.695</td>\n",
       "    </tr>\n",
       "    <tr>\n",
       "      <th>2</th>\n",
       "      <td>andhra pradesh</td>\n",
       "      <td>chittoor</td>\n",
       "      <td>1998</td>\n",
       "      <td>whole_year</td>\n",
       "      <td>Sugarcane</td>\n",
       "      <td>34500.0</td>\n",
       "      <td>3377000.0</td>\n",
       "      <td>3</td>\n",
       "      <td>81.818750</td>\n",
       "      <td>24.695</td>\n",
       "    </tr>\n",
       "    <tr>\n",
       "      <th>3</th>\n",
       "      <td>andhra pradesh</td>\n",
       "      <td>east godavari</td>\n",
       "      <td>1998</td>\n",
       "      <td>whole_year</td>\n",
       "      <td>Sugarcane</td>\n",
       "      <td>16400.0</td>\n",
       "      <td>1254900.0</td>\n",
       "      <td>3</td>\n",
       "      <td>97.433667</td>\n",
       "      <td>24.695</td>\n",
       "    </tr>\n",
       "    <tr>\n",
       "      <th>4</th>\n",
       "      <td>andhra pradesh</td>\n",
       "      <td>east godavari</td>\n",
       "      <td>1998</td>\n",
       "      <td>whole_year</td>\n",
       "      <td>Tobacco</td>\n",
       "      <td>7000.0</td>\n",
       "      <td>15900.0</td>\n",
       "      <td>3</td>\n",
       "      <td>97.433667</td>\n",
       "      <td>24.695</td>\n",
       "    </tr>\n",
       "  </tbody>\n",
       "</table>\n",
       "</div>"
      ],
      "text/plain": [
       "       State_Name  District_Name  Crop_Year      Season       Crop     Area  \\\n",
       "0  andhra pradesh      anantapur       1998  whole_year  Sugarcane    700.0   \n",
       "1  andhra pradesh      anantapur       1998  whole_year    Tobacco    100.0   \n",
       "2  andhra pradesh       chittoor       1998  whole_year  Sugarcane  34500.0   \n",
       "3  andhra pradesh  east godavari       1998  whole_year  Sugarcane  16400.0   \n",
       "4  andhra pradesh  east godavari       1998  whole_year    Tobacco   7000.0   \n",
       "\n",
       "   Production  Season_ID   Rainfall  Temperature(M)  \n",
       "0     65900.0          3  73.456083          24.695  \n",
       "1       100.0          3  73.456083          24.695  \n",
       "2   3377000.0          3  81.818750          24.695  \n",
       "3   1254900.0          3  97.433667          24.695  \n",
       "4     15900.0          3  97.433667          24.695  "
      ]
     },
     "execution_count": 9,
     "metadata": {},
     "output_type": "execute_result"
    }
   ],
   "source": [
    "CP_df.head()"
   ]
  },
  {
   "cell_type": "markdown",
   "id": "educated-participation",
   "metadata": {},
   "source": [
    "#### Viasualizing the data "
   ]
  },
  {
   "cell_type": "code",
   "execution_count": 10,
   "id": "revolutionary-point",
   "metadata": {
    "scrolled": false
   },
   "outputs": [
    {
     "data": {
      "image/png": "[encoded data removed]",
      "text/plain": [
       "<Figure size 1200x400 with 1 Axes>"
      ]
     },
     "metadata": {},
     "output_type": "display_data"
    }
   ],
   "source": [
    "from matplotlib.pyplot import figure\n",
    "figure(num=None, figsize=(15, 5), dpi=80, facecolor='w', edgecolor='k')\n",
    "sns.barplot(x = CP_df['State_Name'],\n",
    "            y = CP_df['Rainfall'],\n",
    "            data = CP_df)\n",
    "plt.xticks(rotation = 90) # Rotates X-Axis Ticks by 45-degrees\n",
    "# Show the plot\n",
    "plt.show()"
   ]
  },
  {
   "cell_type": "code",
   "execution_count": 11,
   "id": "missing-malawi",
   "metadata": {},
   "outputs": [
    {
     "data": {
      "image/png": "[encoded data removed]",
      "text/plain": [
       "<Figure size 1200x400 with 1 Axes>"
      ]
     },
     "metadata": {},
     "output_type": "display_data"
    }
   ],
   "source": [
    "from matplotlib.pyplot import figure\n",
    "figure(num=None, figsize=(15, 5), dpi=80, facecolor='w', edgecolor='k')\n",
    "sns.barplot(x = CP_df['State_Name'],\n",
    "            y = CP_df['Production'],\n",
    "            data = CP_df)\n",
    "plt.xticks(rotation = 90) # Rotates X-Axis Ticks by 45-degrees\n",
    "# Show the plot\n",
    "plt.show()"
   ]
  },
  {
   "cell_type": "code",
   "execution_count": 12,
   "id": "ignored-house",
   "metadata": {},
   "outputs": [
    {
     "data": {
      "image/png": "[encoded data removed]",
      "text/plain": [
       "<Figure size 1200x400 with 1 Axes>"
      ]
     },
     "metadata": {},
     "output_type": "display_data"
    }
   ],
   "source": [
    "from matplotlib.pyplot import figure\n",
    "figure(num=None, figsize=(15, 5), dpi=80, facecolor='w', edgecolor='k')\n",
    "sns.barplot(x = CP_df['State_Name'],\n",
    "            y = CP_df['Area'],\n",
    "            data = CP_df)\n",
    "plt.xticks(rotation = 90) # Rotates X-Axis Ticks by 45-degrees\n",
    "# Show the plot\n",
    "plt.show()"
   ]
  },
  {
   "cell_type": "code",
   "execution_count": 13,
   "id": "veterinary-butler",
   "metadata": {
    "scrolled": false
   },
   "outputs": [
    {
     "data": {
      "text/plain": [
       "<AxesSubplot:xlabel='Rainfall', ylabel='Production'>"
      ]
     },
     "execution_count": 13,
     "metadata": {},
     "output_type": "execute_result"
    },
    {
     "data": {
      "image/png": "[encoded data removed]",
      "text/plain": [
       "<Figure size 1200x400 with 1 Axes>"
      ]
     },
     "metadata": {},
     "output_type": "display_data"
    }
   ],
   "source": [
    "figure(num=None, figsize=(15, 5), dpi=80, facecolor='w', edgecolor='k')\n",
    "Rice_df = CP_df.query(\"Crop == 'Rice'\")\n",
    "sns.lineplot(data=Rice_df, x=\"Rainfall\", y=\"Production\")"
   ]
  },
  {
   "cell_type": "code",
   "execution_count": 14,
   "id": "suburban-bhutan",
   "metadata": {},
   "outputs": [
    {
     "data": {
      "text/plain": [
       "<AxesSubplot:xlabel='Rainfall', ylabel='Temperature(M)'>"
      ]
     },
     "execution_count": 14,
     "metadata": {},
     "output_type": "execute_result"
    },
    {
     "data": {
      "image/png": "[encoded data removed]",
      "text/plain": [
       "<Figure size 1200x400 with 1 Axes>"
      ]
     },
     "metadata": {},
     "output_type": "display_data"
    }
   ],
   "source": [
    "figure(num=None, figsize=(15, 5), dpi=80, facecolor='w', edgecolor='k')\n",
    "state_df = CP_df.query(\"State_Name == 'andhra pradesh'\")\n",
    "sns.lineplot(data=state_df, x=\"Rainfall\", y=\"Temperature(M)\")\n",
    "sns.lineplot(data=state_df, x=\"Rainfall\", y=\"Production\")"
   ]
  },
  {
   "cell_type": "markdown",
   "id": "black-angle",
   "metadata": {},
   "source": [
    "#### Dependent and Independent Variable sepration"
   ]
  },
  {
   "cell_type": "code",
   "execution_count": 15,
   "id": "comparable-fraction",
   "metadata": {},
   "outputs": [],
   "source": [
    "# Production/ yield of the crop depends on rainfall, temperature, area, crop, season\n",
    "X = CP_df.iloc[:,[3,4,5,8,9]]\n",
    "y = CP_df['Production']"
   ]
  },
  {
   "cell_type": "code",
   "execution_count": 16,
   "id": "renewable-acceptance",
   "metadata": {},
   "outputs": [
    {
     "data": {
      "text/html": [
       "<div>\n",
       "<style scoped>\n",
       "    .dataframe tbody tr th:only-of-type {\n",
       "        vertical-align: middle;\n",
       "    }\n",
       "\n",
       "    .dataframe tbody tr th {\n",
       "        vertical-align: top;\n",
       "    }\n",
       "\n",
       "    .dataframe thead th {\n",
       "        text-align: right;\n",
       "    }\n",
       "</style>\n",
       "<table border=\"1\" class=\"dataframe\">\n",
       "  <thead>\n",
       "    <tr style=\"text-align: right;\">\n",
       "      <th></th>\n",
       "      <th>Season</th>\n",
       "      <th>Crop</th>\n",
       "      <th>Area</th>\n",
       "      <th>Rainfall</th>\n",
       "      <th>Temperature(M)</th>\n",
       "    </tr>\n",
       "  </thead>\n",
       "  <tbody>\n",
       "    <tr>\n",
       "      <th>0</th>\n",
       "      <td>whole_year</td>\n",
       "      <td>Sugarcane</td>\n",
       "      <td>700.0</td>\n",
       "      <td>73.456083</td>\n",
       "      <td>24.695000</td>\n",
       "    </tr>\n",
       "    <tr>\n",
       "      <th>1</th>\n",
       "      <td>whole_year</td>\n",
       "      <td>Tobacco</td>\n",
       "      <td>100.0</td>\n",
       "      <td>73.456083</td>\n",
       "      <td>24.695000</td>\n",
       "    </tr>\n",
       "    <tr>\n",
       "      <th>2</th>\n",
       "      <td>whole_year</td>\n",
       "      <td>Sugarcane</td>\n",
       "      <td>34500.0</td>\n",
       "      <td>81.818750</td>\n",
       "      <td>24.695000</td>\n",
       "    </tr>\n",
       "    <tr>\n",
       "      <th>3</th>\n",
       "      <td>whole_year</td>\n",
       "      <td>Sugarcane</td>\n",
       "      <td>16400.0</td>\n",
       "      <td>97.433667</td>\n",
       "      <td>24.695000</td>\n",
       "    </tr>\n",
       "    <tr>\n",
       "      <th>4</th>\n",
       "      <td>whole_year</td>\n",
       "      <td>Tobacco</td>\n",
       "      <td>7000.0</td>\n",
       "      <td>97.433667</td>\n",
       "      <td>24.695000</td>\n",
       "    </tr>\n",
       "    <tr>\n",
       "      <th>...</th>\n",
       "      <td>...</td>\n",
       "      <td>...</td>\n",
       "      <td>...</td>\n",
       "      <td>...</td>\n",
       "      <td>...</td>\n",
       "    </tr>\n",
       "    <tr>\n",
       "      <th>14061</th>\n",
       "      <td>whole_year</td>\n",
       "      <td>Sannhamp</td>\n",
       "      <td>108.0</td>\n",
       "      <td>109.472917</td>\n",
       "      <td>24.254167</td>\n",
       "    </tr>\n",
       "    <tr>\n",
       "      <th>14062</th>\n",
       "      <td>whole_year</td>\n",
       "      <td>Sesamum</td>\n",
       "      <td>1037.0</td>\n",
       "      <td>109.472917</td>\n",
       "      <td>24.254167</td>\n",
       "    </tr>\n",
       "    <tr>\n",
       "      <th>14063</th>\n",
       "      <td>whole_year</td>\n",
       "      <td>Small millets</td>\n",
       "      <td>488.0</td>\n",
       "      <td>109.472917</td>\n",
       "      <td>24.254167</td>\n",
       "    </tr>\n",
       "    <tr>\n",
       "      <th>14064</th>\n",
       "      <td>whole_year</td>\n",
       "      <td>Sugarcane</td>\n",
       "      <td>500.0</td>\n",
       "      <td>109.472917</td>\n",
       "      <td>24.254167</td>\n",
       "    </tr>\n",
       "    <tr>\n",
       "      <th>14065</th>\n",
       "      <td>whole_year</td>\n",
       "      <td>Turmeric</td>\n",
       "      <td>216.0</td>\n",
       "      <td>109.472917</td>\n",
       "      <td>24.254167</td>\n",
       "    </tr>\n",
       "  </tbody>\n",
       "</table>\n",
       "<p>14066 rows × 5 columns</p>\n",
       "</div>"
      ],
      "text/plain": [
       "           Season           Crop     Area    Rainfall  Temperature(M)\n",
       "0      whole_year      Sugarcane    700.0   73.456083       24.695000\n",
       "1      whole_year        Tobacco    100.0   73.456083       24.695000\n",
       "2      whole_year      Sugarcane  34500.0   81.818750       24.695000\n",
       "3      whole_year      Sugarcane  16400.0   97.433667       24.695000\n",
       "4      whole_year        Tobacco   7000.0   97.433667       24.695000\n",
       "...           ...            ...      ...         ...             ...\n",
       "14061  whole_year       Sannhamp    108.0  109.472917       24.254167\n",
       "14062  whole_year        Sesamum   1037.0  109.472917       24.254167\n",
       "14063  whole_year  Small millets    488.0  109.472917       24.254167\n",
       "14064  whole_year      Sugarcane    500.0  109.472917       24.254167\n",
       "14065  whole_year       Turmeric    216.0  109.472917       24.254167\n",
       "\n",
       "[14066 rows x 5 columns]"
      ]
     },
     "execution_count": 16,
     "metadata": {},
     "output_type": "execute_result"
    }
   ],
   "source": [
    "X"
   ]
  },
  {
   "cell_type": "markdown",
   "id": "powered-explanation",
   "metadata": {},
   "source": [
    "#### Splitting the data into test and train "
   ]
  },
  {
   "cell_type": "code",
   "execution_count": 17,
   "id": "absent-sense",
   "metadata": {},
   "outputs": [
    {
     "name": "stderr",
     "output_type": "stream",
     "text": [
      "C:\\Users\\jaypr\\Anaconda3\\lib\\site-packages\\ipykernel_launcher.py:5: SettingWithCopyWarning: \n",
      "A value is trying to be set on a copy of a slice from a DataFrame.\n",
      "Try using .loc[row_indexer,col_indexer] = value instead\n",
      "\n",
      "See the caveats in the documentation: https://pandas.pydata.org/pandas-docs/stable/user_guide/indexing.html#returning-a-view-versus-a-copy\n",
      "  \"\"\"\n",
      "C:\\Users\\jaypr\\Anaconda3\\lib\\site-packages\\ipykernel_launcher.py:6: SettingWithCopyWarning: \n",
      "A value is trying to be set on a copy of a slice from a DataFrame.\n",
      "Try using .loc[row_indexer,col_indexer] = value instead\n",
      "\n",
      "See the caveats in the documentation: https://pandas.pydata.org/pandas-docs/stable/user_guide/indexing.html#returning-a-view-versus-a-copy\n",
      "  \n"
     ]
    }
   ],
   "source": [
    "from sklearn.preprocessing import LabelEncoder\n",
    "from sklearn.preprocessing import OneHotEncoder \n",
    "from sklearn.compose import ColumnTransformer \n",
    "se = LabelEncoder()\n",
    "X['Season'] = se.fit_transform(X['Season'])\n",
    "X['Crop'] = se.fit_transform(X['Crop'])"
   ]
  },
  {
   "cell_type": "code",
   "execution_count": 18,
   "id": "apart-wesley",
   "metadata": {},
   "outputs": [],
   "source": [
    "#from sklearn.preprocessing import StandardScaler\n",
    "# scaling data:\n",
    "#scaler = StandardScaler()\n",
    "#X = scaler.fit_transform(X)\n"
   ]
  },
  {
   "cell_type": "code",
   "execution_count": 19,
   "id": "mexican-newport",
   "metadata": {
    "scrolled": true
   },
   "outputs": [
    {
     "name": "stdout",
     "output_type": "stream",
     "text": [
      "Train set (11252, 5) (11252,)\n",
      "Test set (2814, 5) (2814,)\n"
     ]
    }
   ],
   "source": [
    "from sklearn.model_selection import train_test_split\n",
    "X_train, X_test, y_train, y_test = train_test_split(X,y, random_state = 42, test_size=0.2)\n",
    "print('Train set', X_train.shape, y_train.shape)\n",
    "print('Test set', X_test.shape, y_test.shape)"
   ]
  },
  {
   "cell_type": "markdown",
   "id": "public-private",
   "metadata": {},
   "source": [
    "#### Random Forest "
   ]
  },
  {
   "cell_type": "code",
   "execution_count": 20,
   "id": "impressed-charlotte",
   "metadata": {},
   "outputs": [],
   "source": [
    "from sklearn.ensemble import RandomForestRegressor\n",
    "clf = RandomForestRegressor(n_estimators=150)"
   ]
  },
  {
   "cell_type": "code",
   "execution_count": 21,
   "id": "armed-harmony",
   "metadata": {},
   "outputs": [
    {
     "data": {
      "text/plain": [
       "RandomForestRegressor(n_estimators=150)"
      ]
     },
     "execution_count": 21,
     "metadata": {},
     "output_type": "execute_result"
    }
   ],
   "source": [
    "clf.fit(X_train, y_train)"
   ]
  },
  {
   "cell_type": "code",
   "execution_count": 22,
   "id": "proved-phase",
   "metadata": {},
   "outputs": [],
   "source": [
    "y_pred = clf.predict(X_test)"
   ]
  },
  {
   "cell_type": "code",
   "execution_count": 23,
   "id": "iraqi-haiti",
   "metadata": {},
   "outputs": [],
   "source": [
    "RF_score = clf.score(X_test, y_test)"
   ]
  },
  {
   "cell_type": "code",
   "execution_count": 24,
   "id": "geological-lambda",
   "metadata": {},
   "outputs": [],
   "source": [
    "from sklearn import metrics"
   ]
  },
  {
   "cell_type": "code",
   "execution_count": 25,
   "id": "dominant-hundred",
   "metadata": {},
   "outputs": [
    {
     "name": "stdout",
     "output_type": "stream",
     "text": [
      "R^2: 0.35822084825800726\n"
     ]
    }
   ],
   "source": [
    "print('R^2:', metrics.r2_score(y_test, y_pred))"
   ]
  },
  {
   "cell_type": "code",
   "execution_count": 26,
   "id": "killing-delta",
   "metadata": {},
   "outputs": [],
   "source": [
    "num=[]\n",
    "for i in range(X_test.shape[0]):\n",
    "    num.append(i+1)"
   ]
  },
  {
   "cell_type": "code",
   "execution_count": 27,
   "id": "correct-olympus",
   "metadata": {
    "scrolled": false
   },
   "outputs": [
    {
     "data": {
      "text/plain": [
       "Text(0, 0.5, 'Production')"
      ]
     },
     "execution_count": 27,
     "metadata": {},
     "output_type": "execute_result"
    },
    {
     "data": {
      "image/png": "[encoded data removed]",
      "text/plain": [
       "<Figure size 960x400 with 1 Axes>"
      ]
     },
     "metadata": {},
     "output_type": "display_data"
    }
   ],
   "source": [
    "from matplotlib.pyplot import figure\n",
    "figure(num=None, figsize=(12, 5), dpi=80, facecolor='w', edgecolor='k')\n",
    "\n",
    "plt.plot(num,y_pred,label=\"Predicted\")\n",
    "plt.plot(num,y_test,label=\"Actual\")\n",
    "plt.legend()\n",
    "plt.xlabel(\"Datapoints\")\n",
    "plt.ylabel(\"Production\")"
   ]
  },
  {
   "cell_type": "code",
   "execution_count": 42,
   "id": "bright-chinese",
   "metadata": {},
   "outputs": [
    {
     "data": {
      "text/plain": [
       "Text(0, 0.5, 'Production')"
      ]
     },
     "execution_count": 42,
     "metadata": {},
     "output_type": "execute_result"
    },
    {
     "data": {
      "image/png": "[encoded data removed]",
      "text/plain": [
       "<Figure size 400x240 with 1 Axes>"
      ]
     },
     "metadata": {},
     "output_type": "display_data"
    }
   ],
   "source": [
    "figure(num=None, figsize=(5, 3), dpi=80, facecolor='w', edgecolor='k')\n",
    "\n",
    "plt.scatter(num[:20],y_pred[:20],label=\"Predicted\")\n",
    "plt.scatter(num[:20],y_test[:20],label=\"Actual\")\n",
    "plt.legend()\n",
    "plt.xlabel(\"Datapoints\")\n",
    "plt.ylabel(\"Production\")"
   ]
  },
  {
   "cell_type": "code",
   "execution_count": 29,
   "id": "caroline-oxygen",
   "metadata": {},
   "outputs": [],
   "source": [
    "from sklearn.preprocessing import StandardScaler\n",
    "# scaling data:\n",
    "scaler = StandardScaler()\n",
    "X_trainscaled = scaler.fit_transform(X_train)\n",
    "X_testscaled = scaler.fit_transform(X_test)"
   ]
  },
  {
   "cell_type": "code",
   "execution_count": 30,
   "id": "received-laundry",
   "metadata": {},
   "outputs": [],
   "source": [
    "#from sklearn.ensemble import RandomForestRegressor\n",
    "clf = RandomForestRegressor(n_estimators=110, random_state=0)"
   ]
  },
  {
   "cell_type": "code",
   "execution_count": 31,
   "id": "discrete-friendship",
   "metadata": {},
   "outputs": [
    {
     "data": {
      "text/plain": [
       "RandomForestRegressor(n_estimators=110, random_state=0)"
      ]
     },
     "execution_count": 31,
     "metadata": {},
     "output_type": "execute_result"
    }
   ],
   "source": [
    "clf.fit(X_trainscaled, y_train)"
   ]
  },
  {
   "cell_type": "code",
   "execution_count": 32,
   "id": "weekly-establishment",
   "metadata": {},
   "outputs": [],
   "source": [
    "y_pred = clf.predict(X_testscaled)"
   ]
  },
  {
   "cell_type": "code",
   "execution_count": 33,
   "id": "bigger-flash",
   "metadata": {},
   "outputs": [],
   "source": [
    "RF_score_scaled = clf.score(X_testscaled, y_test)"
   ]
  },
  {
   "cell_type": "markdown",
   "id": "overhead-mission",
   "metadata": {},
   "source": [
    "#### SVM regression "
   ]
  },
  {
   "cell_type": "code",
   "execution_count": 34,
   "id": "amber-findings",
   "metadata": {},
   "outputs": [
    {
     "data": {
      "text/plain": [
       "SVR()"
      ]
     },
     "execution_count": 34,
     "metadata": {},
     "output_type": "execute_result"
    }
   ],
   "source": [
    "from sklearn.svm import SVR\n",
    "regressor = SVR(kernel = 'rbf')\n",
    "regressor.fit(X_train, y_train)"
   ]
  },
  {
   "cell_type": "code",
   "execution_count": 35,
   "id": "subsequent-birmingham",
   "metadata": {},
   "outputs": [],
   "source": [
    "y_pred = regressor.predict(X_test)"
   ]
  },
  {
   "cell_type": "code",
   "execution_count": 36,
   "id": "infinite-provision",
   "metadata": {},
   "outputs": [
    {
     "name": "stdout",
     "output_type": "stream",
     "text": [
      "R^2: -0.0017127955626341507\n"
     ]
    }
   ],
   "source": [
    "SVR_score = metrics.r2_score(y_test, y_pred)\n",
    "print('R^2:', metrics.r2_score(y_test, y_pred))"
   ]
  },
  {
   "cell_type": "markdown",
   "id": "naughty-discrimination",
   "metadata": {},
   "source": [
    "#### Linear Regression\n"
   ]
  },
  {
   "cell_type": "code",
   "execution_count": 37,
   "id": "fluid-billy",
   "metadata": {},
   "outputs": [],
   "source": [
    "from sklearn.linear_model import LinearRegression\n",
    "from sklearn.metrics import r2_score\n",
    "lr=LinearRegression()\n",
    "lr.fit(X_train,y_train)\n",
    "pred_1=lr.predict(X_test)\n",
    "score_L=r2_score(y_test,pred_1)"
   ]
  },
  {
   "cell_type": "code",
   "execution_count": 38,
   "id": "graphic-aquarium",
   "metadata": {},
   "outputs": [
    {
     "data": {
      "text/plain": [
       "0.0002263069923320593"
      ]
     },
     "execution_count": 38,
     "metadata": {},
     "output_type": "execute_result"
    }
   ],
   "source": [
    "score_L"
   ]
  },
  {
   "cell_type": "code",
   "execution_count": 39,
   "id": "capital-flash",
   "metadata": {
    "scrolled": true
   },
   "outputs": [
    {
     "data": {
      "image/png": "[encoded data removed]",
      "text/plain": [
       "<Figure size 432x288 with 1 Axes>"
      ]
     },
     "metadata": {
      "needs_background": "light"
     },
     "output_type": "display_data"
    }
   ],
   "source": [
    "# creating the bar plot \n",
    "algo = [\"RFR\", \"RFR_scaled\", \"SVM\", \"Linear\"]\n",
    "values = [RF_score, RF_score_scaled, SVR_score, score_L]\n",
    "plt.bar(algo, values, color ='maroon',  \n",
    "        width = 0.5) \n",
    "  \n",
    "plt.xlabel(\"Algorithms\") \n",
    "plt.ylabel(\"Accuracy\") \n",
    "plt.title(\"Accuracy of models\") \n",
    "plt.show() "
   ]
  },
  {
   "cell_type": "code",
   "execution_count": null,
   "id": "imperial-quantum",
   "metadata": {},
   "outputs": [],
   "source": []
  }
 ],
 "metadata": {
  "kernelspec": {
   "display_name": "Python 3",
   "language": "python",
   "name": "python3"
  },
  "language_info": {
   "codemirror_mode": {
    "name": "ipython",
    "version": 3
   },
   "file_extension": ".py",
   "mimetype": "text/x-python",
   "name": "python",
   "nbconvert_exporter": "python",
   "pygments_lexer": "ipython3",
   "version": "3.7.3"
  }
 },
 "nbformat": 4,
 "nbformat_minor": 5
}
